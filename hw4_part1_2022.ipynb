{
  "nbformat": 4,
  "nbformat_minor": 0,
  "metadata": {
    "colab": {
      "name": "hw4_part1_2022.ipynb",
      "provenance": [],
      "collapsed_sections": []
    },
    "kernelspec": {
      "name": "python3",
      "display_name": "Python 3"
    },
    "accelerator": "GPU"
  },
  "cells": [
    {
      "metadata": {
        "id": "2RW-ZE14WTn7"
      },
      "cell_type": "markdown",
      "source": [
        "# CPSC 477/577 Spring 2022, HW4 Part 1: RNN for machine translation\n",
        "\n",
        "Due: April 27th, 11:59pm\n",
        "\n",
        "*TF: Malcolm Sailor*"
      ]
    },
    {
      "cell_type": "markdown",
      "source": [
        "## Please write your name and NetID below"
      ],
      "metadata": {
        "id": "Yk0Ng1L3puxz"
      }
    },
    {
      "cell_type": "markdown",
      "source": [
        "Name: Qiuyu (Olina) Zhu \n",
        "\n",
        "NetID: qz258 "
      ],
      "metadata": {
        "id": "Mtwa1W61px8Z"
      }
    },
    {
      "cell_type": "code",
      "source": [
        "!pip install torchtext==0.11.2 "
      ],
      "metadata": {
        "colab": {
          "base_uri": "https://localhost:8080/"
        },
        "id": "fZXsd3cr1_c4",
        "outputId": "5adb711e-3c9b-483d-fbee-7335a9492f1d"
      },
      "execution_count": 28,
      "outputs": [
        {
          "output_type": "stream",
          "name": "stdout",
          "text": [
            "Requirement already satisfied: torchtext==0.11.2 in /usr/local/lib/python3.7/dist-packages (0.11.2)\n",
            "Requirement already satisfied: numpy in /usr/local/lib/python3.7/dist-packages (from torchtext==0.11.2) (1.21.6)\n",
            "Requirement already satisfied: tqdm in /usr/local/lib/python3.7/dist-packages (from torchtext==0.11.2) (4.64.0)\n",
            "Requirement already satisfied: requests in /usr/local/lib/python3.7/dist-packages (from torchtext==0.11.2) (2.23.0)\n",
            "Requirement already satisfied: torch==1.10.2 in /usr/local/lib/python3.7/dist-packages (from torchtext==0.11.2) (1.10.2)\n",
            "Requirement already satisfied: typing-extensions in /usr/local/lib/python3.7/dist-packages (from torch==1.10.2->torchtext==0.11.2) (4.2.0)\n",
            "Requirement already satisfied: certifi>=2017.4.17 in /usr/local/lib/python3.7/dist-packages (from requests->torchtext==0.11.2) (2021.10.8)\n",
            "Requirement already satisfied: idna<3,>=2.5 in /usr/local/lib/python3.7/dist-packages (from requests->torchtext==0.11.2) (2.10)\n",
            "Requirement already satisfied: urllib3!=1.25.0,!=1.25.1,<1.26,>=1.21.1 in /usr/local/lib/python3.7/dist-packages (from requests->torchtext==0.11.2) (1.24.3)\n",
            "Requirement already satisfied: chardet<4,>=3.0.2 in /usr/local/lib/python3.7/dist-packages (from requests->torchtext==0.11.2) (3.0.4)\n"
          ]
        }
      ]
    },
    {
      "cell_type": "markdown",
      "source": [
        "## Instructions for completing this assignment\n",
        "\n",
        "All the portions of this assignment for you to complete are indicated with `# STUDENT TODO` comments.\n",
        "\n",
        "If you want to help yourself remember what you have completed and what remains to be done, you can delete the `TODO` portion of the comment (though you don't have to). But **do not delete the comment `STUDENT`**. Searching for this string is how we will grade your work.\n",
        "\n",
        "The next cell defines an object that we use as a placeholder in a few places (e.g., in function arguments). It allows us to define syntactically correct code for you to complete. Thus anywhere you see `TO.DO` in the notebook, you need to replace it with your own code."
      ],
      "metadata": {
        "id": "EolMFRgDm3_n"
      }
    },
    {
      "cell_type": "code",
      "source": [
        "class Placeholder:\n",
        "    @property\n",
        "    def DO(self):\n",
        "        raise NotImplementedError(\"You haven't yet implemented this part of the assignment yet\")\n",
        "\n",
        "TO = Placeholder()"
      ],
      "metadata": {
        "id": "HMZVut_JoMnO"
      },
      "execution_count": 29,
      "outputs": []
    },
    {
      "metadata": {
        "id": "tj7_nSMS5K7b"
      },
      "cell_type": "markdown",
      "source": [
        "- Part 1 15 points\n",
        "    - 1A - why would reversing input help? (3 points)\n",
        "    - 1B - implement data process fn (5 points)\n",
        "    - 1C - collate_fn (5 points)\n",
        "    - 1D - run training (1 point)\n",
        "    - 1E - run test (1 point)\n",
        "- Part 2 39 points\n",
        "    - 2A - data process fn (1 point)\n",
        "    - 2B - collate_fn (1 point)\n",
        "    - 2C - explain lookahead mask (3 points)\n",
        "    - 2D - attention (10 points)\n",
        "    - 2E - split/merge heads (5 points)\n",
        "    - 2F - Encoder forward pass (5 points)\n",
        "    - 2G - Decoder forward pass (5 points)\n",
        "    - 2H - Transformer forward pass (5 points)\n",
        "    - 2I - run training (1 point)\n",
        "    - 2J - greedy vs beam search (3 points)\n",
        "    - Bonus: Beam Search (3 points)\n",
        "- Part 3 21 points\n",
        "    - 3A - pipeline for text-generation (3 points)\n",
        "    - 3B - download raw datasets (2 points)\n",
        "    - 3C - create validation split (3 points)\n",
        "    - 3D - explain tokenizer issue (3 points)\n",
        "    - 3E - preprocess function (4 points)\n",
        "    - 3F - trainer arguments (2 points)\n",
        "    - 3G - training set size vs. number of epochs (3 points)\n",
        "    - 3H - run evaluation (1 point)\n",
        "- Part 4 5 points\n",
        "    - 4A - delete API key (1 point)\n",
        "    - 4B - zero-shot translation (2 point)\n",
        "    - 4C - find a task GPT-3 is good at (1 point)\n",
        "    - 4D - find a task GPT-3 is bad at (1 point)\n",
        "\n",
        "Total points: 80"
      ]
    },
    {
      "metadata": {
        "id": "SMYqZpD-5Nq5"
      },
      "cell_type": "markdown",
      "source": [
        "## Environment Setup\n",
        "\n",
        "For this assignment, we will use Google Colab. It is a free cloud service based on Jupyter Notebooks that lets you use a free GPU. Basically, you can quickly create, upload, share, and even edit togther Jupyter notebooks.\n",
        "\n",
        "Please refer to [tutorial 1](https://course.fast.ai/start_colab.html) or [tutorial 2](https://towardsdatascience.com/getting-started-with-google-colab-f2fff97f594c) for additional instructions on how to use Google Colab.\n",
        "\n",
        "#### Using GPU in Colab\n",
        "PyTorch and other deep learning libraries are much faster using GPU acceleration. For training and evaluating the models in this assignment, you should always a GPU:\n",
        "\n",
        "1. Go to __Runtime__ option on the top left\n",
        "2. Click __Change runtime type__\n",
        "3. Select \"Python 3\" for __Runtime type__ and \"GPU\" for __Hardward accelerator__\n",
        "4. Click __SAVE__ button\n",
        "\n",
        "However, GPU limits the amount of time that you can use a free GPU. So you may wish to implement much of the assignment without the GPU. But note that you will have to run all cells again once you change the runtime type.\n",
        "\n",
        "Colab has popular libraries already installed such as Pytorch, TensorFlow, OpenCV and Keras. Let's get started and verify this:"
      ]
    },
    {
      "metadata": {
        "id": "HfXXxdem5SAT",
        "colab": {
          "base_uri": "https://localhost:8080/"
        },
        "outputId": "685f1069-d6f7-432b-d623-cb6091eef9ec"
      },
      "cell_type": "code",
      "source": [
        "import torch\n",
        "device = torch.device(\"cuda\" if torch.cuda.is_available() else \"cpu\")\n",
        "print(\"Pytorch version is: \", torch.__version__)\n",
        "print(\"You are using: \", device)"
      ],
      "execution_count": 30,
      "outputs": [
        {
          "output_type": "stream",
          "name": "stdout",
          "text": [
            "Pytorch version is:  1.10.2+cu102\n",
            "You are using:  cuda\n"
          ]
        }
      ]
    },
    {
      "metadata": {
        "id": "JwWFsGzT5UIT"
      },
      "cell_type": "markdown",
      "source": [
        "If you enabled the GPU, then you should be using CUDA with Pytorch >= 1.10.0\n"
      ]
    },
    {
      "metadata": {
        "id": "TzG-FAVM5ZIw"
      },
      "cell_type": "markdown",
      "source": [
        " **Note**: You need to finish this assignment on Google Colab  because you will share your Google Colab notebook with TAs for grading.\n"
      ]
    },
    {
      "metadata": {
        "id": "sBT9IRQA5C7s"
      },
      "cell_type": "markdown",
      "source": [
        "\n",
        "## Part 1: Recurrent Sequence to Sequence Model\n",
        "\n",
        "Cześć! Hello! Bonjour! In this assignment we are going to build machine learning models for translating from one language to another using PyTorch. We will be working with German to English translation, but the methods and implementation generalize to any language for which there exists an equivalent tokenizer. Also, the sequence-to-sequence models which will be introduced are used in tasks beyond translation, including summarization, dialogue systems, and others. \n",
        "\n",
        "## Introduction\n",
        "Sequence-to-Sequence (seq2seq) models were first introduced in the [Sequence to Sequence Learning with Neural Networks](https://arxiv.org/abs/1409.3215) paper. These models do exactly what you'd think they do; they take one sequence and output another sequence (see [this link](http://jalammar.github.io/images/seq2seq_2.mp4)). The most common seq2seq models are **encoder-decoder** models, in which a  model such as *recurrent neural network* (RNN) *encodes* the input (also called source) sentence into a single vector, often called the context vector. The context vector is a representation of the entire input sentence, and this vector is then *decoded* by a second model, often another RNN, which learns to output the *target* sentence by generating one word at a time. \n",
        "\n",
        "Important types of encoder-decoder models include *recurrent neural networks* (RNNs) and *transformers*. In this notebook, we'll use RNNs, while in the next notebook, we'll use transformers.\n",
        "\n",
        "In an encoder-decoder model implemented with RNNs, we first use an RNN to *encode* the source (input) sentence into a single vector. We'll refer to this single vector as a *context vector*. You can think of the context vector as being an abstract representation of the entire input sentence. This vector is then *decoded* by a second RNN which learns to output the target (output) sentence by generating it one word at a time.\n",
        "\n",
        "\n",
        "<center><img src=\"https://raw.githubusercontent.com/bentrevett/pytorch-seq2seq/master/assets/seq2seq1.png\" alt=\"mlp\" align=\"middle\"></center>\n",
        "\n",
        "This image shows an example translation using recurrent neural networks. The source sentence, \"guten morgen\" is input into the encoder (green) one word at a time. We also append a *start of sequence* (`<sos>`) and *end of sequence* (`<eos>`) token to the start and end of sentence, respectively, to give the model an idea of when encoding and decoding start and end. At each time-step, the input to the encoder RNN is both the current word, $x_t$, as well as the hidden state from the previous time-step, $h_{t-1}$, and the encoder RNN outputs a new hidden state $h_t$. You can think of the hidden state as a vector representation of the sentence so far. The RNN can be represented as a function of both of $x_t$ and $h_{t-1}$:\n",
        "\n",
        "$$h_t = \\text{EncoderRNN}(x_t, h_{t-1})$$\n",
        "\n",
        "We're using the term RNN generally here, it could be any recurrent architecture, such as an *LSTM* (Long Short-Term Memory) or a *GRU* (Gated Recurrent Unit).\n",
        "\n",
        "Here, we have $X = \\{x_1, x_2, ..., x_T\\}$, where $x_1 = \\text{<sos>}, x_2 = \\text{guten}$, etc. The initial hidden state, $h_0$, is usually initialized to zeros.\n",
        "\n",
        "Once the final word, $x_T$, has been passed into the RNN, we use the final hidden state, $h_T$, as the context vector, i.e. $h_T = z$. This is a vector representation of the entire source sentence.\n",
        "\n",
        "Now that we have our context vector, $z$, we can start decoding it to get the target sentence, \"good morning.\" Again, we append start- and end-of-sequence tokens to the target sentence. At each time-step, the input to the decoder RNN (blue) is the current word, $y_t$, as well as the hidden state from the previous time-step, $s_{t-1}$, where the initial decoder hidden state, $s_0$, is the context vector, $s_0 = z = h_T$, i.e. the initial decoder hidden state is the final encoder hidden state. Thus, similar to the encoder, we can represent the decoder as:\n",
        "\n",
        "$$s_t = \\text{DecoderRNN}(y_t, s_{t-1})$$\n",
        "\n",
        "In the decoder, we need to go from the hidden state to an actual word, therefore at each time-step we use $s_t$ to predict (by passing it through a `Linear` layer, shown in purple which projects the hidden state onto the output vocabulary space, to which softmax is applied to pick the most likely word) what we think is the next word in the sequence, $\\hat{y}_t$. \n",
        "\n",
        "$$\\hat{y}_t = f(s_t)$$\n",
        "\n",
        "We always use `<sos>` for the first input to the decoder, $y_1$, but for subsequent inputs, $y_{t>1}$, we will sometimes use the actual, ground truth next word in the sequence, $y_t$ and sometimes use the word predicted by our decoder, $\\hat{y}_{t-1}$. Using the actual next word is called *teacher forcing*, and you can read about it more [here](https://machinelearningmastery.com/teacher-forcing-for-recurrent-neural-networks/).\n",
        "\n",
        "When training/testing our model, we always know how many words are in our target sentence, so we stop generating words once we hit that many. During inference (i.e. real world usage where we do not have access the target translations) it is common to keep generating words until the model outputs an `<eos>` token or after a certain amount of words have been generated.\n",
        "\n",
        "Once we have our predicted target sentence, $\\hat{Y} = \\{ \\hat{y}_1, \\hat{y}_2, ..., \\hat{y}_T \\}$, we compare it against our actual target sentence, $Y = \\{ y_1, y_2, ..., y_T \\}$, to calculate our loss. We then use this loss to update all of the parameters in our model.\n"
      ]
    },
    {
      "metadata": {
        "id": "GQhdzxa1l2DQ"
      },
      "cell_type": "markdown",
      "source": [
        "\n",
        "### Preparing Data\n",
        "\n",
        "We'll be coding up the models in PyTorch and using TorchText to help us do all of the pre-processing required."
      ]
    },
    {
      "metadata": {
        "id": "Yv5oe1W_WTn8"
      },
      "cell_type": "code",
      "source": [
        "import torch\n",
        "import torch.nn as nn\n",
        "import torch.optim as optim\n",
        "\n",
        "from torchtext.datasets import Multi30k\n",
        "\n",
        "# import spacy\n",
        "\n",
        "import random\n",
        "import math\n",
        "import os\n",
        "import time\n",
        "\n",
        "# We'll set the random seeds for deterministic results.\n",
        "SEED = 1\n",
        "\n",
        "random.seed(SEED)\n",
        "torch.manual_seed(SEED)\n",
        "torch.backends.cudnn.enabled = False \n",
        "torch.backends.cudnn.deterministic = True"
      ],
      "execution_count": 31,
      "outputs": []
    },
    {
      "metadata": {
        "id": "iY9lDzYgWToC"
      },
      "cell_type": "markdown",
      "source": [
        "We'll use spaCy to tokenize the data. [SpaCy](https://spacy.io/usage/spacy-101) is a very useful tool for paring and iterating over text in the preprocessing phase. Torchtext allows us to retrieve spaCy tokenizers using the `get_tokenizer` function. However, we first have to download the spaCy tokenization models for German and English."
      ]
    },
    {
      "metadata": {
        "id": "kqyPgqMJWjEE"
      },
      "cell_type": "code",
      "source": [
        "%%capture\n",
        "! python -m spacy download en\n",
        "! python -m spacy download de\n",
        "from torchtext.data.utils import get_tokenizer\n",
        "de_tokenizer = get_tokenizer('spacy', language='de')\n",
        "en_tokenizer = get_tokenizer('spacy', language='en')"
      ],
      "execution_count": 32,
      "outputs": []
    },
    {
      "metadata": {
        "id": "bChXO6XuWToK"
      },
      "cell_type": "markdown",
      "source": [
        "Next, we download and load the train, validation and test data.\n",
        "\n",
        "The dataset we'll be using is the [Multi30k dataset](https://github.com/multi30k/dataset). This is a dataset with ~30,000 parallel English, German and French sentences, each with ~12 words per sentence.\n",
        "\n",
        "NB: When we call `Multi30k`, it returns an iterator (or a tuple of iterators). Each time we retrieve an item from one of these iterators, it is consumed. Thus each time we need to use one of these splits for a different purpose, we need to call `Multi30k` again. Fortunately, however, the implementation is smart enough to only download the dataset once (i.e., the data is cached), no matter how many times we call `Multi30k`."
      ]
    },
    {
      "metadata": {
        "id": "9UnSP-kwWToK"
      },
      "cell_type": "code",
      "source": [
        "# The default src language is German\n",
        "# The default target language is English\n",
        "# Multi30k returns all splits by default\n",
        "# we can get a specific split with e.g., Multi30k(split=\"train\")\n",
        "train_data, valid_data, test_data = Multi30k()"
      ],
      "execution_count": 33,
      "outputs": []
    },
    {
      "metadata": {
        "id": "myIpbN3nWToO"
      },
      "cell_type": "markdown",
      "source": [
        "We can double check that we've loaded about 30,000 examples:"
      ]
    },
    {
      "metadata": {
        "id": "FhPbupsZWToO",
        "colab": {
          "base_uri": "https://localhost:8080/"
        },
        "outputId": "36ced501-bae5-4964-8e9b-20f35f059551"
      },
      "cell_type": "code",
      "source": [
        "print(f\"Number of training examples: {len(train_data)}\")\n",
        "print(f\"Number of validation examples: {len(valid_data)}\")\n",
        "print(f\"Number of testing examples: {len(test_data)}\")"
      ],
      "execution_count": 34,
      "outputs": [
        {
          "output_type": "stream",
          "name": "stdout",
          "text": [
            "Number of training examples: 29000\n",
            "Number of validation examples: 1014\n",
            "Number of testing examples: 1000\n"
          ]
        }
      ]
    },
    {
      "metadata": {
        "id": "gZHhLc72WToU"
      },
      "cell_type": "markdown",
      "source": [
        "We can now print out an example. (It is always a good idea to actually look at your dataset!) There are two things we should take careful note of:\n",
        "\n",
        "1. The sentences end with a newline, and our tokenizer doesn't strip these newlines out for us. We'll need to remove those ourselves.\n",
        "2. The tokenizer is case-sensitive. Below, we will reduce our vocabulary size by casting all characters to lower case."
      ]
    },
    {
      "cell_type": "code",
      "source": [
        "example_src, example_trg = next(Multi30k(split=\"train\"))\n",
        "print(f\"Original: {example_src}\", f\"Tokenized: {de_tokenizer(example_src)}\")\n",
        "print(f\"Original: {example_trg}\", f\"Tokenized: {en_tokenizer(example_trg)}\")"
      ],
      "metadata": {
        "id": "ga395mn1biDE",
        "colab": {
          "base_uri": "https://localhost:8080/"
        },
        "outputId": "58176e79-2867-4a24-b783-68f6c2189511"
      },
      "execution_count": 35,
      "outputs": [
        {
          "output_type": "stream",
          "name": "stdout",
          "text": [
            "Original: Zwei junge weiße Männer sind im Freien in der Nähe vieler Büsche.\n",
            " Tokenized: ['Zwei', 'junge', 'weiße', 'Männer', 'sind', 'im', 'Freien', 'in', 'der', 'Nähe', 'vieler', 'Büsche', '.', '\\n']\n",
            "Original: Two young, White males are outside near many bushes.\n",
            " Tokenized: ['Two', 'young', ',', 'White', 'males', 'are', 'outside', 'near', 'many', 'bushes', '.', '\\n']\n"
          ]
        }
      ]
    },
    {
      "metadata": {
        "id": "cJ_1_SrKWToX"
      },
      "cell_type": "markdown",
      "source": [
        "Next, we'll build the *vocabulary* for the source and target languages. The vocabulary is used to associate each unique token with an index (an integer) and this is used to build a one-hot encoding for each token (a vector of all zeros except for the position represented by the index, which is 1). The vocabularies of the source and target languages are distinct.\n",
        "\n",
        "Using the `min_freq` argument, we only allow tokens that appear at least 2 times to appear in our vocabulary. Tokens that appear only once are converted into an `<unk>` (unknown) token.\n",
        "\n",
        "It is important to note that your vocabulary should only be built from the training set and not the validation/test set. This prevents \"information leakage\" into your model, giving you artifically inflated validation/test scores."
      ]
    },
    {
      "metadata": {
        "id": "syHVQKH1WToY"
      },
      "cell_type": "code",
      "source": [
        "from torchtext.vocab import build_vocab_from_iterator\n",
        "\n",
        "de_generator = (de_tokenizer(pair[0].strip().lower()) for pair in Multi30k(split=\"train\"))\n",
        "specials = [\"<unk>\", \"<pad>\", \"<bos>\", \"<eos>\"]\n",
        "de_vocab = build_vocab_from_iterator(de_generator, specials=specials, min_freq=2)\n",
        "en_generator = (en_tokenizer(pair[1].strip().lower()) for pair in Multi30k(split=\"train\"))\n",
        "en_vocab = build_vocab_from_iterator(en_generator, specials=specials, min_freq=2)\n",
        "\n",
        "for vocab in (de_vocab, en_vocab):\n",
        "    vocab.set_default_index(vocab[\"<unk>\"])"
      ],
      "execution_count": 36,
      "outputs": []
    },
    {
      "cell_type": "markdown",
      "source": [
        "We can see the vocabulary size. (As an aside---i.e., you don't need to submit an answer, but it's interesting to ponder---what features of German do you think might make us expect that the German vocabulary would be substantially bigger than the English vocabulary?)"
      ],
      "metadata": {
        "id": "3pBrK33MlbA7"
      }
    },
    {
      "metadata": {
        "id": "NBc-q3nAWToZ",
        "colab": {
          "base_uri": "https://localhost:8080/"
        },
        "outputId": "f2f4dd59-c129-41ab-c4d7-8f6d49695e47"
      },
      "cell_type": "code",
      "source": [
        "print(f\"Unique tokens in source (de) vocabulary: {len(de_vocab)}\")\n",
        "print(f\"Unique tokens in target (en) vocabulary: {len(en_vocab)}\")"
      ],
      "execution_count": 37,
      "outputs": [
        {
          "output_type": "stream",
          "name": "stdout",
          "text": [
            "Unique tokens in source (de) vocabulary: 7855\n",
            "Unique tokens in target (en) vocabulary: 5894\n"
          ]
        }
      ]
    },
    {
      "metadata": {
        "id": "Cs4fCZYtWToc"
      },
      "cell_type": "markdown",
      "source": [
        "<!-- The final step of preparing the data is to create the iterators. These can be iterated on to return a batch of data which will have a `src` attribute (the PyTorch tensors containing a batch of numericalized source sentences) and a `trg` attribute (the PyTorch tensors containing a batch of numericalized target sentences). Numericalized is just a fancy way of saying they have been converted from a sequence of readable tokens to a sequence of corresponding indexes, using the vocabulary. \n",
        "\n",
        "We also need to define a `torch.device`. This is used to tell TorchText to put the tensors on the GPU or not. We use the `torch.cuda.is_available()` function, which will return `True` if a GPU is detected on our computer. We pass this `device` to the iterator.\n",
        "\n",
        "When we get a batch of examples using an iterator we need to make sure that all of the source sentences are padded to the same length, the same with the target sentences. Luckily, TorchText iterators handle this for us! \n",
        "\n",
        "We use a `BucketIterator` instead of the standard `Iterator` as it creates batches in such a way that it minimizes the amount of padding in both the source and target sentences.  -->"
      ]
    },
    {
      "cell_type": "markdown",
      "source": [
        "The next step is to define a data preprocessing pipeline.\n",
        "\n",
        "- We already saw above that we need to lower case the sentences and strip newlines from them. \n",
        "- In [Sutskever et al. 2014](https://arxiv.org/abs/1409.3215) (a seminal paper introducing RNNs for machine translation), they found it beneficial to reverse the order of the input when feeding it to the model. We will do likewise, so we also need to reverse the German sentences. \n",
        "- Then, we want to add the `<bos>` and `<eos>` tokens.\n",
        "- Finally, we need to encode the tokens as integers using the vocabularies above, and cast the result to a tensor.\n"
      ],
      "metadata": {
        "id": "5C6pNVTxQnN7"
      }
    },
    {
      "cell_type": "markdown",
      "source": [
        "**In this cell, write why you think reversing the order of the input might help. (You are welcome to consult the original paper, of course.)** # STUDENT \n",
        "<br> **Response:** It is benefitial to reverse the order of the input sentence because it introduces many short-term dependencies between words that simplify optimization and increases accuracy on longer sentences. "
      ],
      "metadata": {
        "id": "tzGBA4yumbJU"
      }
    },
    {
      "cell_type": "code",
      "source": [
        "BOS_IDX = de_vocab['<bos>']\n",
        "EOS_IDX = de_vocab['<eos>']\n",
        "\n",
        "from typing import List, Tuple\n",
        "from torch import Tensor\n",
        "\n",
        "def data_process(raw_dataset) -> List[Tuple[Tensor, Tensor]]:\n",
        "    # STUDENT \n",
        "    ret = []\n",
        "    for pair in raw_dataset: \n",
        "      # lower case and strip both German and English tokens in each sentence pair \n",
        "      d_tokens = de_tokenizer(pair[0].strip().lower()) \n",
        "      e_tokens = de_tokenizer(pair[1].strip().lower()) \n",
        "\n",
        "      # reverse sentence order of German tokens \n",
        "      d_tokens = d_tokens[::-1]\n",
        "\n",
        "      # add <bos> and <eos> tokens to both German and English sentences \n",
        "      d_tokens.insert(0, '<bos>')\n",
        "      d_tokens.append('<eos>')\n",
        "      e_tokens.insert(0, '<bos>')\n",
        "      e_tokens.append('<eos>') \n",
        "\n",
        "      # get encoded tensor tuple from vocabs  \n",
        "      d_tens = torch.tensor([de_vocab[token] for token in d_tokens], dtype=torch.long)\n",
        "      e_tens = torch.tensor([en_vocab[token] for token in e_tokens], dtype=torch.long)\n",
        "      tup = (d_tens, e_tens)\n",
        "\n",
        "      # add tensor tuple to list \n",
        "      ret.append(tup) \n",
        "\n",
        "    return ret \n",
        "\n",
        "train_data, valid_data, test_data = Multi30k()\n",
        "train_data_processed = data_process(train_data)\n",
        "valid_data_processed = data_process(valid_data)\n",
        "test_data_processed = data_process(test_data) "
      ],
      "metadata": {
        "id": "lhEPLkwbskZS"
      },
      "execution_count": 69,
      "outputs": []
    },
    {
      "cell_type": "markdown",
      "source": [
        "Now we can try decoding the first example. Does it look right? Is the German example reversed?"
      ],
      "metadata": {
        "id": "2tYHjbONKgNF"
      }
    },
    {
      "cell_type": "code",
      "source": [
        "de_itos = de_vocab.get_itos()\n",
        "en_itos = en_vocab.get_itos()\n",
        "de_encoded, en_encoded = train_data_processed[0]\n",
        "print(\" \".join([de_itos[item] for item in de_encoded]))\n",
        "print(\" \".join([en_itos[item] for item in en_encoded]))"
      ],
      "metadata": {
        "id": "AeSlO-aNICWA",
        "colab": {
          "base_uri": "https://localhost:8080/"
        },
        "outputId": "62b81864-a2c4-43da-dab6-7417e760bd56"
      },
      "execution_count": 70,
      "outputs": [
        {
          "output_type": "stream",
          "name": "stdout",
          "text": [
            "<bos> . büsche vieler nähe der in freien im sind männer weiße junge zwei <eos>\n",
            "<bos> two young , white males are outside near many bushes . <eos>\n"
          ]
        }
      ]
    },
    {
      "cell_type": "markdown",
      "source": [
        "As a final preprocessing step, we will use the `Dataloader` class provided by Pytorch, which is convenient for batching samples.\n",
        "\n",
        "The most important argument we provide to `Dataloader` is `collate_fn`. This function receives a list of examples, and is in charge of collating them into a single batch.\n",
        "\n",
        "The most important step in our `collate_fn` is to call `pad_sequence`, which ensures that all sentences are the same length by adding \"pad\" symbols to the ends of all but the longest sentence in each batch. Pass `PAD_IDX` to `pad_sequence` to ensure that it uses the expected padding value.\n",
        "\n",
        "We also need to provide a list of the lengths of each sentence, which is used by the `pack_padded_sequences` function which we will use below."
      ],
      "metadata": {
        "id": "KloWfAG3nCTz"
      }
    },
    {
      "cell_type": "code",
      "source": [
        "from torch.nn.utils.rnn import pad_sequence\n",
        "from torch.utils.data import DataLoader\n",
        "\n",
        "BATCH_SIZE = 128\n",
        "PAD_IDX = de_vocab['<pad>']\n",
        "\n",
        "def collate_fn(data_batch) -> Tuple[Tensor, List[int], Tensor]:\n",
        "    # STUDENT \n",
        "    # initialize lists to be added to returned tuple \n",
        "    de_batch = [] \n",
        "    en_batch = [] \n",
        "    sent_lens = [] \n",
        "    for pair in data_batch: \n",
        "      de = pair[0]\n",
        "      en = pair[1] \n",
        "      # add indices/lengths to corresponding batches/list\n",
        "      # de_tens = torch.cat([torch.tensor([BOS_IDX]), de, torch.tensor([EOS_IDX])], 0)\n",
        "      # en_tens = torch.cat([torch.tensor([BOS_IDX]), en, torch.tensor([EOS_IDX])], 0)\n",
        "      de_batch.append(de)\n",
        "      en_batch.append(en)\n",
        "      sent_lens.append(len(de))\n",
        "    # pad sequences \n",
        "    # send to gpu \n",
        "    de_batch = torch.tensor(pad_sequence(de_batch, padding_value=PAD_IDX)).to(device) \n",
        "    en_batch = torch.tensor(pad_sequence(en_batch, padding_value=PAD_IDX)).to(device) \n",
        "    ret = (de_batch, sent_lens, en_batch)\n",
        "\n",
        "    return ret \n",
        "\n",
        "train_dl = DataLoader(\n",
        "    train_data_processed,\n",
        "    batch_size=BATCH_SIZE,\n",
        "    shuffle=True,\n",
        "    collate_fn=collate_fn,\n",
        ")\n",
        "valid_dl = DataLoader(\n",
        "    valid_data_processed,\n",
        "    batch_size=BATCH_SIZE,\n",
        "    shuffle=True,\n",
        "    collate_fn=collate_fn,\n",
        ")\n",
        "test_dl = DataLoader(\n",
        "    test_data_processed,\n",
        "    batch_size=BATCH_SIZE,\n",
        "    shuffle=True,\n",
        "    collate_fn=collate_fn,\n",
        ")"
      ],
      "metadata": {
        "id": "XthR0vAjvbUz"
      },
      "execution_count": 71,
      "outputs": []
    },
    {
      "cell_type": "code",
      "source": [
        "# testing collate_fn \n",
        "indices = [0, 1, 2, 3] \n",
        "collate_fn([train_data_processed[i] for i in indices])"
      ],
      "metadata": {
        "colab": {
          "base_uri": "https://localhost:8080/"
        },
        "id": "GW_Acz4ci8wK",
        "outputId": "8763dc32-af42-4a4b-df05-b10bf26fb773"
      },
      "execution_count": 72,
      "outputs": [
        {
          "output_type": "stream",
          "name": "stderr",
          "text": [
            "/usr/local/lib/python3.7/dist-packages/ipykernel_launcher.py:24: UserWarning: To copy construct from a tensor, it is recommended to use sourceTensor.clone().detach() or sourceTensor.clone().detach().requires_grad_(True), rather than torch.tensor(sourceTensor).\n",
            "/usr/local/lib/python3.7/dist-packages/ipykernel_launcher.py:25: UserWarning: To copy construct from a tensor, it is recommended to use sourceTensor.clone().detach() or sourceTensor.clone().detach().requires_grad_(True), rather than torch.tensor(sourceTensor).\n"
          ]
        },
        {
          "output_type": "execute_result",
          "data": {
            "text/plain": [
              "(tensor([[   2,    2,    2,    2],\n",
              "         [   4,    4,    4,    4],\n",
              "         [3171,    0,  499,  248],\n",
              "         [7649,    5,   56,    5],\n",
              "         [ 110, 2069, 7316,  681],\n",
              "         [  15,  831,    5,   10],\n",
              "         [   7,   11,    7,  535],\n",
              "         [  88,   30,  217,   14],\n",
              "         [  20,   76,   25,   12],\n",
              "         [  84,    3,   66,   29],\n",
              "         [  30,    1,    5,   40],\n",
              "         [ 253,    1,    3,   46],\n",
              "         [  26,    1,    1,    6],\n",
              "         [  18,    1,    1,    7],\n",
              "         [   3,    1,    1,   13],\n",
              "         [   1,    1,    1,    5],\n",
              "         [   1,    1,    1,    3]], device='cuda:0'),\n",
              " [15, 10, 12, 17],\n",
              " tensor([[   2,    2,    2,    2],\n",
              "         [  16,  113,    4,    4],\n",
              "         [  24,   30,   53,    9],\n",
              "         [  15,    6,   33,    6],\n",
              "         [  25,  325,  230,    4],\n",
              "         [ 778,  279,   69,   29],\n",
              "         [  17,   17,    4,   23],\n",
              "         [  57, 1200,  248,   10],\n",
              "         [  80,    4, 4286,   36],\n",
              "         [ 202,  715,    5,    8],\n",
              "         [1312, 4317,    3,    4],\n",
              "         [   5, 2879,    1,  576],\n",
              "         [   3,    5,    1,  574],\n",
              "         [   1,    3,    1,    4],\n",
              "         [   1,    1,    1,  240],\n",
              "         [   1,    1,    1,    5],\n",
              "         [   1,    1,    1,    3]], device='cuda:0'))"
            ]
          },
          "metadata": {},
          "execution_count": 72
        }
      ]
    },
    {
      "metadata": {
        "id": "WoL3rBhRWTog"
      },
      "cell_type": "markdown",
      "source": [
        "### Building the Seq2Seq RNN Model\n",
        "\n",
        "This model is in three parts. The encoder, the decoder and a seq2seq model that encapsulates the encoder and decoder and will provide a way to interface with each.\n",
        "\n",
        "The implementation is provided for you. The architecture of the Encoder and Decoder are very similar to that of the LSTMClassifier that we implmeneted in assignment 3. Nevertheless, please read through the directions and the code in order to understand what is going on.\n",
        "\n",
        "### Encoder\n",
        "\n",
        "First, the encoder, a single layer GRU. The paper we are implementing uses a **4-layer** LSTM, but in the interest of training time and simplicity we cut this down to a single layer GRU.\n",
        "\n",
        "$$\\begin{align*}\n",
        "h_t &= \\text{GRU}(x_t, h_{t-1})\\\\\n",
        "\\end{align*}$$\n",
        "\n",
        "\n",
        "We will make an `Encoder` module inheriting from `torch.nn.Module` and use the `super().__init__()` as some boilerplate code. The encoder takes the following arguments:\n",
        "- `input_dim` is the size/dimensionality of the one-hot vectors that will be input to the encoder. This is equal to the input (source) vocabulary size.\n",
        "- `emb_dim` is the dimensionality of the embedding layer. This layer converts the one-hot vectors into dense vectors with `emb_dim` dimensions. \n",
        "- `hid_dim` is the dimensionality of the hidden states.\n",
        "- `dec_hid_dim` is the dimensionality of the hidden states in the decoder, which may differ from the hid_dim of the encoder.\n",
        "- `n_layers` is the number of layers in the RNN.\n",
        "- `dropout` is the amount of dropout to use. This is a regularization parameter to prevent overfitting. Check out [this](https://www.coursera.org/lecture/deep-neural-network/understanding-dropout-YaGbR) for more details about dropout.\n",
        "\n",
        "<!-- If you would like to know about word embeddings, here are a few relevant articles: [1](https://monkeylearn.com/blog/word-embeddings-transform-text-numbers/), [2](http://p.migdal.pl/2017/01/06/king-man-woman-queen-why.html), [3](http://mccormickml.com/2016/04/19/word2vec-tutorial-the-skip-gram-model/), [4](http://mccormickml.com/2017/01/11/word2vec-tutorial-part-2-negative-sampling/).  -->\n",
        "\n",
        "The embedding layer is created using `nn.Embedding`, the GRU using `nn.GRU` and a dropout layer using `nn.Dropout`. Check the PyTorch [documentation](https://pytorch.org/docs/stable/nn.html) for more about these layers.\n",
        "\n",
        "One thing to note is that the `dropout` argument to the GRU determines how much dropout to apply between the layers of a multi-layer RNN, i.e. between the hidden states output from layer $l$ and those same hidden states being used for the input of layer $l+1$.\n",
        "\n",
        "In the `forward` method, we pass in the source sentence, $X$, which is converted into dense vectors using the `embedding` layer, and then dropout is applied. These embeddings are then passed into the RNN. As we pass a whole sequence to the RNN, it will automatically do the recurrent calculation of the hidden states over the whole sequence for us! You may notice that we do not pass an initial hidden or cell state to the RNN. This is because, as noted in the [documentation](https://pytorch.org/docs/stable/nn.html#torch.nn.LSTM), that if no hidden/cell state is passed to the RNN, it will automatically create an initial hidden/cell state as a tensor of all zeros. \n",
        "\n",
        "The RNN returns: `outputs` (the top-layer hidden state for each time-step) and `hidden` (the final hidden state for each layer, $h_T$, stacked on top of each other).\n",
        "\n",
        "<!-- For part 2, when we also need the hidden states for all encoder steps, we also return `outputs`, in addition to `hidden`. -->\n",
        "\n",
        "The size of each of the tensors is left as a comment in the code."
      ]
    },
    {
      "metadata": {
        "id": "6fz_08hMWToi"
      },
      "cell_type": "code",
      "source": [
        "class Encoder(nn.Module):\n",
        "    def __init__(self, input_dim, emb_dim, enc_hid_dim, dec_hid_dim, dropout):\n",
        "        super().__init__()\n",
        "        \n",
        "        self.input_dim = input_dim\n",
        "        self.emb_dim = emb_dim\n",
        "        self.enc_hid_dim = enc_hid_dim\n",
        "        self.dec_hid_dim = dec_hid_dim\n",
        "        self.dropout = dropout\n",
        "        \n",
        "        self.embedding = nn.Embedding(input_dim, emb_dim)\n",
        "        self.rnn = nn.GRU(emb_dim, enc_hid_dim, bidirectional=True)\n",
        "        self.fc = nn.Linear(enc_hid_dim * 2, dec_hid_dim)\n",
        "        \n",
        "        self.dropout = nn.Dropout(dropout)\n",
        "        \n",
        "    def forward(self, src, src_len):\n",
        "        \n",
        "        #src = [src sent len, batch size]\n",
        "        #src_len = [src sent len]\n",
        "  \n",
        "        embedded = self.dropout(self.embedding(src))\n",
        "        \n",
        "        #embedded = [src sent len, batch size, emb dim]\n",
        "\n",
        "        packed_embedded = nn.utils.rnn.pack_padded_sequence(embedded, src_len, enforce_sorted=False)\n",
        "        packed_outputs, hidden = self.rnn(packed_embedded)       \n",
        "        outputs, _ = nn.utils.rnn.pad_packed_sequence(packed_outputs) \n",
        "            \n",
        "        #outputs = [sent len, batch size, dec_hid_dim * num directions]\n",
        "        #hidden = [n layers * num directions, batch size, dec_hid_dim]\n",
        "        \n",
        "        #hidden is stacked [forward_1, backward_1, forward_2, backward_2, ...]\n",
        "        #outputs are always from the last layer\n",
        "        \n",
        "        #hidden [-2, :, : ] is the last of the forwards RNN \n",
        "        #hidden [-1, :, : ] is the last of the backwards RNN\n",
        "        \n",
        "        #initial decoder hidden is final hidden state of the forwards and \n",
        "        # backwards encoder RNNs concatenated and fed through a linear layer\n",
        "\n",
        "        hidden = self.fc(torch.cat((hidden[-2,:,:], hidden[-1,:,:]), dim=1))\n",
        "        \n",
        "        #outputs = [sent len, batch size, enc hid dim * 2]\n",
        "        #hidden = [batch size, dec_hid_dim]\n",
        "        \n",
        "        return outputs, hidden"
      ],
      "execution_count": 73,
      "outputs": []
    },
    {
      "metadata": {
        "id": "NST9l0-nWTon"
      },
      "cell_type": "markdown",
      "source": [
        "### Decoder\n",
        "\n",
        "Next, we'll build our decoder, which will be another 1-layer GRU. The `Decoder` class does a single step of decoding. The equation is very similar to that for the encoder.\n",
        "\n",
        "$$\\begin{align*}\n",
        "s_t = \\text{DecoderGRU}(y_t, s_{t-1})\n",
        "\\end{align*}$$\n",
        "\n",
        "Remember that the initial hidden and cell states to our decoder are our context vectors, which are the final hidden and cell states of our encoder, i.e. $s_0=z=h_T$.\n",
        "\n",
        "We then pass the hidden state from the RNN, $s_t$, through a linear layer, $f$, to make a prediction of what the next token in the target (output) sequence should be, $\\hat{y}_{t+1}$. \n",
        "\n",
        "$$\\hat{y}_{t+1} = f(s_t)$$\n",
        "\n",
        "The arguments and initialization are similar to the `Encoder` class, except we now have an `output_dim` which is the size of the one-hot vectors that will be input to the decoder. These are equal to the vocabulary size of the output/target. There is also the addition of the `Linear` layer, used to make the predictions from the hidden state.\n",
        "\n",
        "Within the `forward` method, we accept a batch of input tokens, previous hidden states and previous cell states. We `unsqueeze` the input tokens to add a sentence length dimension of 1. Then, similar to the encoder, we pass through an embedding layer and apply dropout. This batch of embedded tokens is then passed into the RNN with the previous hidden and cell states. This produces an `output` (hidden state from the RNN), a new `hidden` state (one for each layer–though here there is only one layer—stacked on top of each other) and a new `cell` state (also one per layer, stacked on top of each other). We then pass the `output` (after getting rid of the sentence length dimension) through the linear layer to receive our `prediction`. We then return the `prediction`, the new `hidden` state and the new `cell` state."
      ]
    },
    {
      "metadata": {
        "id": "oc9aLkc2WTop"
      },
      "cell_type": "code",
      "source": [
        "class Decoder(nn.Module):\n",
        "    def __init__(self, output_dim, emb_dim, hid_dim, n_layers):\n",
        "        super().__init__()\n",
        "\n",
        "        self.emb_dim = emb_dim\n",
        "        self.hid_dim = hid_dim\n",
        "        self.output_dim = output_dim\n",
        "        self.n_layers = n_layers\n",
        "\n",
        "        self.embedding = nn.Embedding(output_dim, emb_dim)\n",
        "        self.rnn = nn.GRU(emb_dim, hid_dim, n_layers)\n",
        "        self.out = nn.Linear(hid_dim, output_dim)\n",
        "        \n",
        "        \n",
        "    def forward(self, input, hidden):\n",
        "        \n",
        "        #input = [batch size]\n",
        "        #hidden = [n layers * n directions, batch size, hid dim]\n",
        "        #cell = [n layers * n directions, batch size, hid dim]\n",
        "        \n",
        "        #n directions in the decoder will both always be 1, therefore:\n",
        "        #hidden = [n layers, batch size, hid dim]\n",
        "        #context = [n layers, batch size, hid dim]\n",
        "        \n",
        "        input = input.unsqueeze(0)\n",
        "        \n",
        "        #input = [1, batch size]\n",
        "        \n",
        "        embedded = self.embedding(input)\n",
        "        \n",
        "        #embedded = [1, batch size, emb dim]\n",
        "\n",
        "        output, hidden = self.rnn(embedded, hidden)\n",
        "        \n",
        "        #output = [sent len, batch size, hid dim * n directions]\n",
        "        #hidden = [n layers * n directions, batch size, hid dim]\n",
        "        #cell = [n layers * n directions, batch size, hid dim]\n",
        "        \n",
        "        #sent len and n directions will always be 1 in the decoder, therefore:\n",
        "        #output = [1, batch size, hid dim]\n",
        "        #hidden = [n layers, batch size, hid dim]\n",
        "        #cell = [n layers, batch size, hid dim]\n",
        "        \n",
        "        prediction = self.out(output.squeeze(0))\n",
        "        \n",
        "        #prediction = [batch size, output dim]\n",
        "        \n",
        "        return prediction, hidden"
      ],
      "execution_count": 74,
      "outputs": []
    },
    {
      "metadata": {
        "id": "SZc3dpkdWTos"
      },
      "cell_type": "markdown",
      "source": [
        "### Seq2Seq\n",
        "\n",
        "For the final part of the implementation, we'll implement the seq2seq model. This will handle: \n",
        "- receiving the input/source sentence\n",
        "- using the encoder to produce the context vectors \n",
        "- using the decoder to produce the predicted output/target sentence\n",
        "\n",
        "\n",
        "The `Seq2Seq` model takes in an `Encoder`, `Decoder`, and a `device` (used to place tensors on the GPU, if it exists).\n",
        "\n",
        "<!-- For this implementation, we have to ensure that **the number of layers** and **the hidden (and cell) dimensions** are equal in the `Encoder` and `Decoder`. This is not always the case, you do not necessarily need the same number of layers or the same hidden dimension sizes in a sequence-to-sequence model. However, if you do something like having a different number of layers you will need to make decisions about how this is handled. For example, if your encoder has 2 layers and your decoder only has 1, how is this handled? Do you average the two context vectors output by the decoder? Do you pass both through a linear layer? Do you only use the context vector from the highest layer? Etc. -->\n",
        "\n",
        "Our `forward` method takes the source sentence, target sentence and a teacher-forcing ratio. The teacher forcing ratio is used when training our model. When decoding, at each time-step we will predict what the next token in the target sequence will be from the previous tokens decoded, $\\hat{y}_{t+1}=f(s_t^L)$. With probability equal to the teaching forcing ratio (`teacher_forcing_ratio`) we will use the actual ground-truth next token in the sequence as the input to the decoder during the next time-step. However, with probability `1 - teacher_forcing_ratio`, we will use the token that the model predicted as the next input to the model, even if it doesn't match the actual next token in the sequence.  \n",
        "\n",
        "The first thing we do in the `forward` method is to create an `outputs` tensor that will store all of our predictions, $\\hat{Y}$.\n",
        "\n",
        "We then feed the input/source sentence, $X$/`src`, into the encoder and receive out final hidden and cell states.\n",
        "\n",
        "The first input to the decoder is the start of sequence (`<sos>`) token. As our `trg` tensor already has the `<sos>` token appended (we added it in preprocessing) we get our $y_1$ by slicing into it. We know how long our target sentences should be (`max_len`), so we loop that many times. During each iteration of the loop, we:\n",
        "- pass the input, previous hidden and previous cell states ($y_t, s_{t-1}, c_{t-1}$) into the decoder\n",
        "- receive a prediction, next hidden state and next cell state ($\\hat{y}_{t+1}, s_{t}, c_{t}$) from the decoder\n",
        "- place our prediction, $\\hat{y}_{t+1}$[=`output`] in our tensor of predictions, $\\hat{Y}$[=`outputs`]\n",
        "- decide if we are going to \"teacher force\" or not\n",
        "    - if we do, the next `input` is the ground-truth next token in the sequence, $y_{t+1}$[=`trg[t]`]\n",
        "    - if we don't, the next `input` is the predicted next token in the sequence, $\\hat{y}_{t+1}$[=`top1`]\n",
        "    \n",
        "Once we've made all of our predictions, we return our tensor full of predictions, $\\hat{Y}$[=`outputs`]."
      ]
    },
    {
      "metadata": {
        "id": "5VULJi93WTot"
      },
      "cell_type": "code",
      "source": [
        "class Seq2Seq(nn.Module):\n",
        "    def __init__(self, encoder, decoder, device):\n",
        "        super().__init__()\n",
        "        \n",
        "        self.encoder = encoder\n",
        "        self.decoder = decoder\n",
        "        self.device = device\n",
        "        \n",
        "        assert encoder.enc_hid_dim == decoder.hid_dim, \\\n",
        "            \"Hidden dimensions of encoder and decoder must be equal!\"\n",
        "#         assert encoder.n_layers == decoder.n_layers, \\\n",
        "#             \"Encoder and decoder must have equal number of layers!\"\n",
        "        \n",
        "    def forward(self, src, src_len, trg, teacher_forcing_ratio = 0.5):\n",
        "        \n",
        "        #src = [src sent len, batch size]\n",
        "        #trg = [trg sent len, batch size]\n",
        "        #teacher_forcing_ratio is probability to use teacher forcing\n",
        "        #e.g. if teacher_forcing_ratio is 0.75 we use ground-truth inputs 75% of the time\n",
        "        \n",
        "        batch_size = trg.shape[1]\n",
        "        max_len = trg.shape[0]\n",
        "        trg_vocab_size = self.decoder.output_dim\n",
        "        \n",
        "        #tensor to store decoder outputs\n",
        "        outputs = torch.zeros(max_len, batch_size, trg_vocab_size).to(self.device)\n",
        "        \n",
        "        #last hidden state of the encoder is used as the initial hidden state of the decoder\n",
        "        _, hidden = self.encoder(src, src_len)\n",
        "        hidden = hidden.unsqueeze(0)\n",
        "        #first input to the decoder is the <sos> tokens\n",
        "        input = trg[0,:]\n",
        "        \n",
        "        for t in range(1, max_len):\n",
        "            \n",
        "            output, hidden = self.decoder(input, hidden)\n",
        "            outputs[t] = output\n",
        "            teacher_force = random.random() < teacher_forcing_ratio\n",
        "            top1 = output.argmax(1)\n",
        "            input = (trg[t] if teacher_force else top1)\n",
        "        \n",
        "        return outputs"
      ],
      "execution_count": 75,
      "outputs": []
    },
    {
      "metadata": {
        "id": "08P-oKpVWTov"
      },
      "cell_type": "markdown",
      "source": [
        "### Training the Seq2Seq Model\n",
        "\n",
        "Now we have our model implemented, we can begin training it. \n",
        "\n",
        "First, we'll initialize our model. As mentioned before, the input and output dimensions are defined by the size of the vocabulary. The embedding dimensions and dropout for the encoder and decoder can be different, but the number of layers and the size of the hidden/cell states must be the same. \n",
        "\n",
        "We then define the encoder, decoder and then our Seq2Seq model, which we place on the `device`."
      ]
    },
    {
      "metadata": {
        "id": "hqrUQvp6WTow"
      },
      "cell_type": "code",
      "source": [
        "INPUT_DIM = len(de_vocab)\n",
        "OUTPUT_DIM = len(en_vocab)\n",
        "ENC_EMB_DIM = 256\n",
        "DEC_EMB_DIM = 256\n",
        "HID_DIM = 512\n",
        "N_LAYERS = 1\n",
        "ENC_DROPOUT = 0.5\n",
        "DEC_DROPOUT = 0.5\n",
        "\n",
        "enc = Encoder(INPUT_DIM, ENC_EMB_DIM, HID_DIM, HID_DIM, ENC_DROPOUT)\n",
        "dec = Decoder(OUTPUT_DIM, DEC_EMB_DIM, HID_DIM, N_LAYERS)\n",
        "\n",
        "model = Seq2Seq(enc, dec, device).to(device)"
      ],
      "execution_count": 76,
      "outputs": []
    },
    {
      "metadata": {
        "id": "2M6DnsUZWToy"
      },
      "cell_type": "markdown",
      "source": [
        "We also define a function that will calculate the number of trainable parameters in the model."
      ]
    },
    {
      "metadata": {
        "id": "nsLNEteqWToz",
        "colab": {
          "base_uri": "https://localhost:8080/"
        },
        "outputId": "091d3635-7e1d-47d2-e7a4-79a9e7c54018"
      },
      "cell_type": "code",
      "source": [
        "def count_parameters(model):\n",
        "    return sum(p.numel() for p in model.parameters() if p.requires_grad)\n",
        "\n",
        "print(f'The model has {count_parameters(model):,} trainable parameters')"
      ],
      "execution_count": 77,
      "outputs": [
        {
          "output_type": "stream",
          "name": "stdout",
          "text": [
            "The model has 10,616,326 trainable parameters\n"
          ]
        }
      ]
    },
    {
      "metadata": {
        "id": "d2lANRz3WTo2"
      },
      "cell_type": "markdown",
      "source": [
        "We define our optimizer, which we use to update our parameters in the training loop. Check out [this](http://ruder.io/optimizing-gradient-descent/) post for information about different optimizers. Here, we'll use Adam."
      ]
    },
    {
      "metadata": {
        "id": "1XzEJnqxWTo3"
      },
      "cell_type": "code",
      "source": [
        "optimizer = optim.Adam(model.parameters())"
      ],
      "execution_count": 78,
      "outputs": []
    },
    {
      "metadata": {
        "id": "zbQgLQj9WTo6"
      },
      "cell_type": "markdown",
      "source": [
        "Next, we define our loss function. The `CrossEntropyLoss` function calculates both the log softmax as well as the negative log-likelihood of our predictions. \n",
        "\n",
        "Our loss function calculates the average loss per token, however by passing the index of the `<pad>` token as the `ignore_index` argument we ignore the loss whenever the target token is a padding token. "
      ]
    },
    {
      "metadata": {
        "id": "bqkXf5ZNWTo7"
      },
      "cell_type": "code",
      "source": [
        "PAD_IDX = en_vocab['<pad>']\n",
        "assert PAD_IDX == de_vocab['<pad>']\n",
        "\n",
        "criterion = nn.CrossEntropyLoss(ignore_index = PAD_IDX)"
      ],
      "execution_count": 79,
      "outputs": []
    },
    {
      "metadata": {
        "id": "LVtPp3INWTo-"
      },
      "cell_type": "markdown",
      "source": [
        "Next, we'll define our training loop. \n",
        "\n",
        "First, we'll set the model into \"training mode\" with `model.train()`. This will turn on dropout (and batch normalization, which we aren't using) and then iterate through our data iterator.\n",
        "\n",
        "At each iteration:\n",
        "- get the source and target sentences from the batch, $X$ and $Y$\n",
        "- zero the gradients calculated from the last batch\n",
        "- feed the source and target into the model to get the output, $\\hat{Y}$\n",
        "- as the loss function only works on 2d inputs with 1d targets we need to flatten each of them with `.view`\n",
        "    - we also don't want to measure the loss of the `<sos>` token, hence we slice off the first column of the output and target tensors\n",
        "- calculate the gradients with `loss.backward()`\n",
        "- clip the gradients to prevent them from exploding (a common issue in RNNs)\n",
        "- update the parameters of our model by doing an optimizer step\n",
        "- sum the loss value to a running total\n",
        "\n",
        "Finally, we return the loss that is averaged over all batches."
      ]
    },
    {
      "metadata": {
        "id": "l1xp_-5hWTpA"
      },
      "cell_type": "code",
      "source": [
        "def train(model, train_dl, optimizer, criterion, clip):\n",
        "    \n",
        "    model.train() # set the model into \"training mode\"\n",
        "    \n",
        "    epoch_loss = 0\n",
        "    \n",
        "    for i, (src, src_len, trg) in enumerate(train_dl):\n",
        "        \n",
        "        optimizer.zero_grad() # zero the gradients calculated from the last batch\n",
        "        output = model(src, src_len, trg)\n",
        "        \n",
        "        #trg = [trg sent len, batch size]\n",
        "        #output = [trg sent len, batch size, output dim]\n",
        "        \n",
        "        output = output[1:].view(-1, output.shape[-1])\n",
        "        # view() Returns a new tensor with the same data as the self tensor but of a different shape.\n",
        "        \n",
        "        trg = trg[1:].view(-1)\n",
        "        \n",
        "        #trg = [(trg sent len - 1) * batch size]\n",
        "        #output = [(trg sent len - 1) * batch size, output dim]\n",
        "        \n",
        "        loss = criterion(output, trg)\n",
        "        \n",
        "        loss.backward()\n",
        "        \n",
        "        torch.nn.utils.clip_grad_norm_(model.parameters(), clip)  # CLIP = 1\n",
        "        # parameters (Iterable[Tensor] or Tensor): an iterable of Tensors or a\n",
        "        #     single Tensor that will have gradients normalized\n",
        "        # max_norm (float or int): max norm of the gradients\n",
        "        # norm_type (float or int): type of the used p-norm. Can be ``'inf'`` for infinity norm.\n",
        "        \n",
        "        # forcing the gradients to be reasonably small, \n",
        "        # which means that the parameter updates will not push the parameters too far from \n",
        "        # their previous values\n",
        "        \n",
        "        optimizer.step()\n",
        "        \n",
        "        epoch_loss += loss.item()\n",
        "        \n",
        "    return epoch_loss / len(train_dl)"
      ],
      "execution_count": 80,
      "outputs": []
    },
    {
      "metadata": {
        "id": "2Ta3elHMWTpE"
      },
      "cell_type": "markdown",
      "source": [
        "Our evaluation loop is similar to our training loop, however as we aren't updating any parameters we don't need to pass an optimizer or a clip value.\n",
        "\n",
        "We must remember to set the model to evaluation mode with `model.eval()`. This will turn off dropout (and batch normalization, if used).\n",
        "\n",
        "We use the `with torch.no_grad()` block to ensure no gradients are calculated within the block. This reduces memory consumption and speeds things up. \n",
        "\n",
        "The iteration loop is similar (without the parameter updates), however we must ensure we turn teacher forcing off for evaluation. This will cause the model to only use its own predictions to make further predictions within a sentence, which mirrors how it would be used in deployment."
      ]
    },
    {
      "metadata": {
        "id": "oAZGOivbWTpF"
      },
      "cell_type": "code",
      "source": [
        "def evaluate(model, val_dl, criterion):\n",
        "    model.eval()\n",
        "    epoch_loss = 0\n",
        "    with torch.no_grad():\n",
        "    \n",
        "        for i, (src, src_len, trg) in enumerate(val_dl):\n",
        "\n",
        "            output = model(src, src_len, trg, 0) #turn off teacher forcing\n",
        "\n",
        "            #trg = [trg sent len, batch size]\n",
        "            #output = [trg sent len, batch size, output dim]\n",
        "\n",
        "            output = output[1:].view(-1, output.shape[-1])\n",
        "            trg = trg[1:].view(-1)\n",
        "\n",
        "            #trg = [(trg sent len - 1) * batch size]\n",
        "            #output = [(trg sent len - 1) * batch size, output dim]\n",
        "\n",
        "            loss = criterion(output, trg)\n",
        "            epoch_loss += loss.item()\n",
        "        \n",
        "    return epoch_loss / len(val_dl)"
      ],
      "execution_count": 81,
      "outputs": []
    },
    {
      "metadata": {
        "id": "bNomTsziWTpH"
      },
      "cell_type": "markdown",
      "source": [
        "Next, we'll create a function that we'll use to tell us how long an epoch takes."
      ]
    },
    {
      "metadata": {
        "id": "XqThqiAwWTpI"
      },
      "cell_type": "code",
      "source": [
        "def epoch_time(start_time, end_time):\n",
        "    elapsed_time = end_time - start_time\n",
        "    elapsed_mins = int(elapsed_time / 60)\n",
        "    elapsed_secs = int(elapsed_time - (elapsed_mins * 60))\n",
        "    return elapsed_mins, elapsed_secs"
      ],
      "execution_count": 82,
      "outputs": []
    },
    {
      "metadata": {
        "id": "DJX0TTB_WTpK"
      },
      "cell_type": "markdown",
      "source": [
        "We can finally start training our model!\n",
        "\n",
        "At each epoch, we'll be checking if our model has achieved the best validation loss so far. If it has, we'll update our best validation loss and save the parameters of our model (called `state_dict` in PyTorch). Then, when we come to test our model, we'll use the saved parameters used to achieve the best validation loss. \n",
        "\n",
        "We'll be printing out both the loss and the perplexity at each epoch. It is easier to see a change in perplexity than a change in loss as the numbers are much bigger."
      ]
    },
    {
      "cell_type": "markdown",
      "source": [
        "**Run the following cell and see if the training and validation loss/perplexity seem to be improving.** # STUDENT TODO 1D"
      ],
      "metadata": {
        "id": "i34H84jOq0Mf"
      }
    },
    {
      "metadata": {
        "id": "eTrSPLDDWTpL",
        "colab": {
          "base_uri": "https://localhost:8080/"
        },
        "outputId": "a6b83c3e-2593-47a6-ecd3-5e2f63d8799c"
      },
      "cell_type": "code",
      "source": [
        "N_EPOCHS = 5\n",
        "CLIP = 1\n",
        "SAVE_DIR = 'models'\n",
        "MODEL_SAVE_PATH = os.path.join(SAVE_DIR, 'cpsc477_hw4_rnn.pt')\n",
        "\n",
        "best_valid_loss = float('inf')\n",
        "\n",
        "if not os.path.isdir(f'{SAVE_DIR}'):\n",
        "    os.makedirs(f'{SAVE_DIR}')\n",
        "\n",
        "for epoch in range(N_EPOCHS):\n",
        "    \n",
        "    start_time = time.time()\n",
        "\n",
        "    train_loss = train(model, train_dl, optimizer, criterion, CLIP)\n",
        "    valid_loss = evaluate(model, valid_dl, criterion)\n",
        "    \n",
        "    end_time = time.time()\n",
        "    \n",
        "    epoch_mins, epoch_secs = epoch_time(start_time, end_time)\n",
        "    \n",
        "    if valid_loss < best_valid_loss:\n",
        "        best_valid_loss = valid_loss\n",
        "        torch.save(model.state_dict(), MODEL_SAVE_PATH)\n",
        "    \n",
        "    print(f'Epoch: {epoch+1:02} | Time: {epoch_mins}m {epoch_secs}s')\n",
        "    print(f'\\tTrain Loss: {train_loss:.3f} | Train PPL: {math.exp(train_loss):7.3f}')\n",
        "    print(f'\\t Val. Loss: {valid_loss:.3f} |  Val. PPL: {math.exp(valid_loss):7.3f}')"
      ],
      "execution_count": 67,
      "outputs": [
        {
          "output_type": "stream",
          "name": "stderr",
          "text": [
            "/usr/local/lib/python3.7/dist-packages/ipykernel_launcher.py:24: UserWarning: To copy construct from a tensor, it is recommended to use sourceTensor.clone().detach() or sourceTensor.clone().detach().requires_grad_(True), rather than torch.tensor(sourceTensor).\n",
            "/usr/local/lib/python3.7/dist-packages/ipykernel_launcher.py:25: UserWarning: To copy construct from a tensor, it is recommended to use sourceTensor.clone().detach() or sourceTensor.clone().detach().requires_grad_(True), rather than torch.tensor(sourceTensor).\n"
          ]
        },
        {
          "output_type": "stream",
          "name": "stdout",
          "text": [
            "Epoch: 01 | Time: 0m 58s\n",
            "\tTrain Loss: 4.356 | Train PPL:  77.970\n",
            "\t Val. Loss: 4.124 |  Val. PPL:  61.789\n",
            "Epoch: 02 | Time: 0m 59s\n",
            "\tTrain Loss: 3.458 | Train PPL:  31.750\n",
            "\t Val. Loss: 3.905 |  Val. PPL:  49.670\n",
            "Epoch: 03 | Time: 0m 58s\n",
            "\tTrain Loss: 3.114 | Train PPL:  22.509\n",
            "\t Val. Loss: 3.734 |  Val. PPL:  41.844\n",
            "Epoch: 04 | Time: 0m 58s\n",
            "\tTrain Loss: 2.822 | Train PPL:  16.817\n",
            "\t Val. Loss: 3.730 |  Val. PPL:  41.669\n",
            "Epoch: 05 | Time: 0m 57s\n",
            "\tTrain Loss: 2.603 | Train PPL:  13.502\n",
            "\t Val. Loss: 3.726 |  Val. PPL:  41.507\n"
          ]
        }
      ]
    },
    {
      "metadata": {
        "id": "9Vndc13aWTpP"
      },
      "cell_type": "markdown",
      "source": [
        "We'll load the parameters (`state_dict`) that gave our model the best validation loss and run this model on the test set.\n",
        "\n",
        "**Run the following cell to see how the model does on the test set.** # STUDENT TODO 1E"
      ]
    },
    {
      "metadata": {
        "id": "I2UNcaY-WTpP",
        "colab": {
          "base_uri": "https://localhost:8080/"
        },
        "outputId": "b23379f7-2947-4787-ba9b-83e681e75eb7"
      },
      "cell_type": "code",
      "source": [
        "model.load_state_dict(torch.load(MODEL_SAVE_PATH))\n",
        "\n",
        "test_loss = evaluate(model, test_dl, criterion)\n",
        "\n",
        "print(f'| Test Loss: {test_loss:.3f} | Test PPL: {math.exp(test_loss):7.3f} |')"
      ],
      "execution_count": 68,
      "outputs": [
        {
          "output_type": "stream",
          "name": "stderr",
          "text": [
            "/usr/local/lib/python3.7/dist-packages/ipykernel_launcher.py:24: UserWarning: To copy construct from a tensor, it is recommended to use sourceTensor.clone().detach() or sourceTensor.clone().detach().requires_grad_(True), rather than torch.tensor(sourceTensor).\n",
            "/usr/local/lib/python3.7/dist-packages/ipykernel_launcher.py:25: UserWarning: To copy construct from a tensor, it is recommended to use sourceTensor.clone().detach() or sourceTensor.clone().detach().requires_grad_(True), rather than torch.tensor(sourceTensor).\n"
          ]
        },
        {
          "output_type": "stream",
          "name": "stdout",
          "text": [
            "| Test Loss: 3.719 | Test PPL:  41.206 |\n"
          ]
        }
      ]
    },
    {
      "metadata": {
        "id": "Vnx-qOnZ5dfs"
      },
      "cell_type": "markdown",
      "source": [
        "## Submission\n",
        "\n",
        "Once you have completed the assignment, follow the steps below for all 3 notebooks in order to submit your assignment:\n",
        "1. Click __Runtime__ > __Restart runtime__ and then __Runtime__  > __Run all__ to cleanly generate the output for all cells in the notebook.\n",
        "2. Save the notebook with the output from all the cells in the notebook by click __File__ > __Download .ipynb__.\n",
        "<!-- 3. Copy model train and test prints, answers to all short questions, and the shareable line of this notebook to a `README.txt` file. -->\n",
        "3. Put the .ipynb file <!-- and `README.txt` --> under your hidden directory on the Zoo server `~/hidden/<YOUR_PIN>/Homework5/`.\n",
        "4. As a final step (after doing the above steps for all 3 notebooks), run a script that will set up the permissions to your homework files, so we can access and run your code to grade it. Make sure the command runs without errors, and do not make any changes or run the code again. If you do run the code again or make any changes, you need to run the permissions script again. Submissions without the correct permissions may incur some grading penalty.\n",
        "`/home/classes/cs477/bash_files/hw5_set_permissions.sh <YOUR_PIN>`"
      ]
    }
  ]
}